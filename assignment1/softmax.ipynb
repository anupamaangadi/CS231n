{
 "cells": [
  {
   "cell_type": "markdown",
   "metadata": {},
   "source": [
    "# Softmax exercise\n",
    "\n",
    "*Complete and hand in this completed worksheet (including its outputs and any supporting code outside of the worksheet) with your assignment submission. For more details see the [assignments page](http://vision.stanford.edu/teaching/cs231n/assignments.html) on the course website.*\n",
    "\n",
    "This exercise is analogous to the SVM exercise. You will:\n",
    "\n",
    "- implement a fully-vectorized **loss function** for the Softmax classifier\n",
    "- implement the fully-vectorized expression for its **analytic gradient**\n",
    "- **check your implementation** with numerical gradient\n",
    "- use a validation set to **tune the learning rate and regularization** strength\n",
    "- **optimize** the loss function with **SGD**\n",
    "- **visualize** the final learned weights\n"
   ]
  },
  {
   "cell_type": "code",
   "execution_count": 1,
   "metadata": {
    "collapsed": false
   },
   "outputs": [],
   "source": [
    "import random\n",
    "import numpy as np\n",
    "from cs231n.data_utils import load_CIFAR10\n",
    "import matplotlib.pyplot as plt\n",
    "%matplotlib inline\n",
    "plt.rcParams['figure.figsize'] = (10.0, 8.0) # set default size of plots\n",
    "plt.rcParams['image.interpolation'] = 'nearest'\n",
    "plt.rcParams['image.cmap'] = 'gray'\n",
    "\n",
    "# for auto-reloading extenrnal modules\n",
    "# see http://stackoverflow.com/questions/1907993/autoreload-of-modules-in-ipython\n",
    "%load_ext autoreload\n",
    "%autoreload 2"
   ]
  },
  {
   "cell_type": "code",
   "execution_count": 4,
   "metadata": {
    "collapsed": false
   },
   "outputs": [
    {
     "name": "stdout",
     "output_type": "stream",
     "text": [
      "Train data shape:  (49000L, 3073L)\n",
      "Train labels shape:  (49000L,)\n",
      "Validation data shape:  (1000L, 3073L)\n",
      "Validation labels shape:  (1000L,)\n",
      "Test data shape:  (1000L, 3073L)\n",
      "Test labels shape:  (1000L,)\n",
      "dev data shape:  (500L, 3073L)\n",
      "dev labels shape:  (500L,)\n"
     ]
    }
   ],
   "source": [
    "def get_CIFAR10_data(num_training=49000, num_validation=1000, num_test=1000, num_dev=500):\n",
    "  \"\"\"\n",
    "  Load the CIFAR-10 dataset from disk and perform preprocessing to prepare\n",
    "  it for the linear classifier. These are the same steps as we used for the\n",
    "  SVM, but condensed to a single function.  \n",
    "  \"\"\"\n",
    "  # Load the raw CIFAR-10 data\n",
    "  cifar10_dir = 'e:\\cifar-10-batches-py' # e:\\cifar-10-batches-py || /Users/sean/Data/cifar-10-batches-py\n",
    "  X_train, y_train, X_test, y_test = load_CIFAR10(cifar10_dir)\n",
    "  \n",
    "  # subsample the data\n",
    "  mask = range(num_training, num_training + num_validation)\n",
    "  X_val = X_train[mask]\n",
    "  y_val = y_train[mask]\n",
    "  mask = range(num_training)\n",
    "  X_train = X_train[mask]\n",
    "  y_train = y_train[mask]\n",
    "  mask = range(num_test)\n",
    "  X_test = X_test[mask]\n",
    "  y_test = y_test[mask]\n",
    "  mask = np.random.choice(num_training, num_dev, replace=False)\n",
    "  X_dev = X_train[mask]\n",
    "  y_dev = y_train[mask]\n",
    "  \n",
    "  # Preprocessing: reshape the image data into rows\n",
    "  X_train = np.reshape(X_train, (X_train.shape[0], -1))\n",
    "  X_val = np.reshape(X_val, (X_val.shape[0], -1))\n",
    "  X_test = np.reshape(X_test, (X_test.shape[0], -1))\n",
    "  X_dev = np.reshape(X_dev, (X_dev.shape[0], -1))\n",
    "  \n",
    "  # Normalize the data: subtract the mean image\n",
    "  mean_image = np.mean(X_train, axis = 0)\n",
    "  X_train -= mean_image\n",
    "  X_val -= mean_image\n",
    "  X_test -= mean_image\n",
    "  X_dev -= mean_image\n",
    "  \n",
    "  # add bias dimension and transform into columns\n",
    "  X_train = np.hstack([X_train, np.ones((X_train.shape[0], 1))])\n",
    "  X_val = np.hstack([X_val, np.ones((X_val.shape[0], 1))])\n",
    "  X_test = np.hstack([X_test, np.ones((X_test.shape[0], 1))])\n",
    "  X_dev = np.hstack([X_dev, np.ones((X_dev.shape[0], 1))])\n",
    "  \n",
    "  return X_train, y_train, X_val, y_val, X_test, y_test, X_dev, y_dev\n",
    "\n",
    "\n",
    "# Invoke the above function to get our data.\n",
    "X_train, y_train, X_val, y_val, X_test, y_test, X_dev, y_dev = get_CIFAR10_data()\n",
    "print 'Train data shape: ', X_train.shape\n",
    "print 'Train labels shape: ', y_train.shape\n",
    "print 'Validation data shape: ', X_val.shape\n",
    "print 'Validation labels shape: ', y_val.shape\n",
    "print 'Test data shape: ', X_test.shape\n",
    "print 'Test labels shape: ', y_test.shape\n",
    "print 'dev data shape: ', X_dev.shape\n",
    "print 'dev labels shape: ', y_dev.shape"
   ]
  },
  {
   "cell_type": "markdown",
   "metadata": {},
   "source": [
    "## Softmax Classifier\n",
    "\n",
    "Your code for this section will all be written inside **cs231n/classifiers/softmax.py**. \n"
   ]
  },
  {
   "cell_type": "code",
   "execution_count": 14,
   "metadata": {
    "collapsed": false
   },
   "outputs": [
    {
     "name": "stdout",
     "output_type": "stream",
     "text": [
      "loss: 2.353524\n",
      "sanity check: 2.302585\n"
     ]
    }
   ],
   "source": [
    "# First implement the naive softmax loss function with nested loops.\n",
    "# Open the file cs231n/classifiers/softmax.py and implement the\n",
    "# softmax_loss_naive function.\n",
    "\n",
    "from cs231n.classifiers.softmax import softmax_loss_naive\n",
    "import time\n",
    "\n",
    "# Generate a random softmax weight matrix and use it to compute the loss.\n",
    "W = np.random.randn(3073, 10) * 0.0001\n",
    "loss, grad = softmax_loss_naive(W, X_dev, y_dev, 0.0)\n",
    "\n",
    "# As a rough sanity check, our loss should be something close to -log(0.1).\n",
    "print 'loss: %f' % loss\n",
    "print 'sanity check: %f' % (-np.log(0.1))"
   ]
  },
  {
   "cell_type": "markdown",
   "metadata": {},
   "source": [
    "## Inline Question 1:\n",
    "Why do we expect our loss to be close to -log(0.1)? Explain briefly.**\n",
    "\n",
    "**Your answer:** Cross-entropy loss function measures the negative logarithm of the probability that test points are correctly classified to their true labels (the higher this values is, lower loss will be). Since numbers of images belonging to each class in our dataset are uniformly distributed, this probability, in our case, is some number around 50 (take into account inquality after using np.random.choice) divided by 500 (number of images in __dev__ subset), which is close to 0.1. Therefore, we expect our loss to be close to -log(0.1)."
   ]
  },
  {
   "cell_type": "code",
   "execution_count": 15,
   "metadata": {
    "collapsed": false
   },
   "outputs": [
    {
     "name": "stdout",
     "output_type": "stream",
     "text": [
      "numerical: -1.534867 analytic: -1.534867, relative error: 1.475154e-08\n",
      "numerical: 1.442290 analytic: 1.442290, relative error: 1.139211e-08\n",
      "numerical: -2.870460 analytic: -2.870460, relative error: 2.198346e-08\n",
      "numerical: 4.459381 analytic: 4.459381, relative error: 8.727870e-09\n",
      "numerical: 0.518809 analytic: 0.518809, relative error: 3.700972e-08\n",
      "numerical: 4.199092 analytic: 4.199092, relative error: 2.098121e-08\n",
      "numerical: -1.374149 analytic: -1.374149, relative error: 8.339265e-09\n",
      "numerical: -1.281324 analytic: -1.281324, relative error: 4.500352e-08\n",
      "numerical: 1.548005 analytic: 1.548004, relative error: 3.389089e-08\n",
      "numerical: 0.794528 analytic: 0.794528, relative error: 9.877654e-09\n",
      "numerical: 0.098950 analytic: 0.105136, relative error: 3.031158e-02\n",
      "numerical: 0.855737 analytic: 0.860622, relative error: 2.846055e-03\n",
      "numerical: -1.501770 analytic: -1.500662, relative error: 3.690380e-04\n",
      "numerical: -0.830554 analytic: -0.844446, relative error: 8.294064e-03\n",
      "numerical: 0.052414 analytic: 0.045913, relative error: 6.611438e-02\n",
      "numerical: 2.179082 analytic: 2.180788, relative error: 3.913171e-04\n",
      "numerical: 0.452818 analytic: 0.451929, relative error: 9.819824e-04\n",
      "numerical: 0.702439 analytic: 0.712758, relative error: 7.291476e-03\n",
      "numerical: -3.203797 analytic: -3.194521, relative error: 1.449710e-03\n",
      "numerical: -2.346579 analytic: -2.344331, relative error: 4.791670e-04\n"
     ]
    }
   ],
   "source": [
    "# Complete the implementation of softmax_loss_naive and implement a (naive)\n",
    "# version of the gradient that uses nested loops.\n",
    "loss, grad = softmax_loss_naive(W, X_dev, y_dev, 0.0)\n",
    "\n",
    "# As we did for the SVM, use numeric gradient checking as a debugging tool.\n",
    "# The numeric gradient should be close to the analytic gradient.\n",
    "from cs231n.gradient_check import grad_check_sparse\n",
    "f = lambda w: softmax_loss_naive(w, X_dev, y_dev, 0.0)[0]\n",
    "grad_numerical = grad_check_sparse(f, W, grad, 10)\n",
    "\n",
    "# similar to SVM case, do another gradient check with regularization\n",
    "loss, grad = softmax_loss_naive(W, X_dev, y_dev, 1e2)\n",
    "f = lambda w: softmax_loss_naive(w, X_dev, y_dev, 1e2)[0]\n",
    "grad_numerical = grad_check_sparse(f, W, grad, 10)"
   ]
  },
  {
   "cell_type": "code",
   "execution_count": 23,
   "metadata": {
    "collapsed": false
   },
   "outputs": [
    {
     "name": "stdout",
     "output_type": "stream",
     "text": [
      "naive loss: 2.353524e+00 computed in 0.087000s\n",
      "vectorized loss: 2.353524e+00 computed in 0.004000s\n",
      "Loss difference: 0.000000\n",
      "Gradient difference: 0.000000\n"
     ]
    }
   ],
   "source": [
    "# Now that we have a naive implementation of the softmax loss function and its gradient,\n",
    "# implement a vectorized version in softmax_loss_vectorized.\n",
    "# The two versions should compute the same results, but the vectorized version should be\n",
    "# much faster.\n",
    "tic = time.time()\n",
    "loss_naive, grad_naive = softmax_loss_naive(W, X_dev, y_dev, 0.00001)\n",
    "toc = time.time()\n",
    "print 'naive loss: %e computed in %fs' % (loss_naive, toc - tic)\n",
    "\n",
    "from cs231n.classifiers.softmax import softmax_loss_vectorized\n",
    "tic = time.time()\n",
    "loss_vectorized, grad_vectorized = softmax_loss_vectorized(W, X_dev, y_dev, 0.00001)\n",
    "toc = time.time()\n",
    "print 'vectorized loss: %e computed in %fs' % (loss_vectorized, toc - tic)\n",
    "\n",
    "# As we did for the SVM, we use the Frobenius norm to compare the two versions\n",
    "# of the gradient.\n",
    "grad_difference = np.linalg.norm(grad_naive - grad_vectorized, ord='fro')\n",
    "print 'Loss difference: %f' % np.abs(loss_naive - loss_vectorized)\n",
    "print 'Gradient difference: %f' % grad_difference"
   ]
  },
  {
   "cell_type": "code",
   "execution_count": 25,
   "metadata": {
    "collapsed": false
   },
   "outputs": [
    {
     "name": "stdout",
     "output_type": "stream",
     "text": [
      "training took 4.444000s\n",
      "training took 2.449000s\n",
      "training took 2.362000s\n",
      "training took 2.392000s\n",
      "training took 2.371000s\n",
      "training took 2.359000s\n",
      "training took 2.366000s\n",
      "training took 2.351000s\n",
      "training took 2.371000s\n",
      "training took 2.390000s\n",
      "training took 2.366000s\n",
      "training took 2.364000s\n",
      "training took 2.364000s\n",
      "training took 2.376000s\n",
      "training took 2.373000s\n",
      "training took 2.366000s\n",
      "training took 2.377000s\n",
      "training took 2.358000s\n",
      "training took 2.375000s\n",
      "training took 2.355000s\n",
      "training took 2.429000s\n",
      "training took 2.464000s\n",
      "training took 2.315000s\n",
      "training took 2.357000s\n",
      "training took 2.464000s\n",
      "training took 2.494000s\n",
      "training took 2.347000s\n",
      "training took 2.318000s\n",
      "training took 2.291000s\n",
      "training took 2.316000s\n",
      "training took 2.379000s\n",
      "training took 2.349000s\n",
      "training took 2.399000s"
     ]
    },
    {
     "name": "stderr",
     "output_type": "stream",
     "text": [
      "cs231n\\classifiers\\softmax.py:92: RuntimeWarning: divide by zero encountered in log\n",
      "  loss = np.sum(- np.log(np.exp(scores[range(num_train), y[range(num_train)]]) / row_sum_exps))\n",
      "cs231n\\classifiers\\softmax.py:106: RuntimeWarning: overflow encountered in double_scalars\n",
      "  f_i = scores[i, :]\n"
     ]
    },
    {
     "name": "stdout",
     "output_type": "stream",
     "text": [
      "\n",
      "training took 2.356000s\n",
      "training took 2.401000s\n",
      "training took 2.336000s\n",
      "training took 2.300000s\n",
      "training took 2.315000s\n",
      "training took 2.310000s\n",
      "training took 2.331000s\n",
      "training took 2.298000s\n",
      "training took 2.304000s\n",
      "training took 2.321000s\n",
      "training took 2.305000s\n",
      "training took 2.303000s\n",
      "lr 1.000000e-07 reg 1.000000e+04 train accuracy: 0.206551 val accuracy: 0.200000\n",
      "lr 1.000000e-07 reg 2.000000e+04 train accuracy: 0.224265 val accuracy: 0.240000\n",
      "lr 1.000000e-07 reg 3.000000e+04 train accuracy: 0.248000 val accuracy: 0.255000\n",
      "lr 1.000000e-07 reg 4.000000e+04 train accuracy: 0.264755 val accuracy: 0.271000\n",
      "lr 1.000000e-07 reg 5.000000e+04 train accuracy: 0.291286 val accuracy: 0.307000\n",
      "lr 1.000000e-07 reg 6.000000e+04 train accuracy: 0.296857 val accuracy: 0.311000\n",
      "lr 1.000000e-07 reg 7.000000e+04 train accuracy: 0.305857 val accuracy: 0.325000\n",
      "lr 1.000000e-07 reg 8.000000e+04 train accuracy: 0.302653 val accuracy: 0.316000\n",
      "lr 1.000000e-07 reg 1.000000e+05 train accuracy: 0.310735 val accuracy: 0.314000\n",
      "lr 2.000000e-07 reg 1.000000e+04 train accuracy: 0.263796 val accuracy: 0.263000\n",
      "lr 2.000000e-07 reg 2.000000e+04 train accuracy: 0.300061 val accuracy: 0.316000\n",
      "lr 2.000000e-07 reg 3.000000e+04 train accuracy: 0.330000 val accuracy: 0.342000\n",
      "lr 2.000000e-07 reg 4.000000e+04 train accuracy: 0.321592 val accuracy: 0.340000\n",
      "lr 2.000000e-07 reg 5.000000e+04 train accuracy: 0.325898 val accuracy: 0.339000\n",
      "lr 2.000000e-07 reg 6.000000e+04 train accuracy: 0.322429 val accuracy: 0.331000\n",
      "lr 2.000000e-07 reg 7.000000e+04 train accuracy: 0.315653 val accuracy: 0.331000\n",
      "lr 2.000000e-07 reg 8.000000e+04 train accuracy: 0.319571 val accuracy: 0.335000\n",
      "lr 2.000000e-07 reg 1.000000e+05 train accuracy: 0.303714 val accuracy: 0.316000\n",
      "lr 3.000000e-07 reg 1.000000e+04 train accuracy: 0.308939 val accuracy: 0.304000\n",
      "lr 3.000000e-07 reg 2.000000e+04 train accuracy: 0.344041 val accuracy: 0.355000\n",
      "lr 3.000000e-07 reg 3.000000e+04 train accuracy: 0.335755 val accuracy: 0.353000\n",
      "lr 3.000000e-07 reg 4.000000e+04 train accuracy: 0.329469 val accuracy: 0.349000\n",
      "lr 3.000000e-07 reg 5.000000e+04 train accuracy: 0.332714 val accuracy: 0.343000\n",
      "lr 3.000000e-07 reg 6.000000e+04 train accuracy: 0.324143 val accuracy: 0.340000\n",
      "lr 3.000000e-07 reg 7.000000e+04 train accuracy: 0.308959 val accuracy: 0.332000\n",
      "lr 3.000000e-07 reg 8.000000e+04 train accuracy: 0.313061 val accuracy: 0.330000\n",
      "lr 3.000000e-07 reg 1.000000e+05 train accuracy: 0.302020 val accuracy: 0.319000\n",
      "lr 8.000000e-07 reg 1.000000e+04 train accuracy: 0.369796 val accuracy: 0.377000\n",
      "lr 8.000000e-07 reg 2.000000e+04 train accuracy: 0.342367 val accuracy: 0.339000\n",
      "lr 8.000000e-07 reg 3.000000e+04 train accuracy: 0.326204 val accuracy: 0.347000\n",
      "lr 8.000000e-07 reg 4.000000e+04 train accuracy: 0.326694 val accuracy: 0.344000\n",
      "lr 8.000000e-07 reg 5.000000e+04 train accuracy: 0.329041 val accuracy: 0.344000\n",
      "lr 8.000000e-07 reg 6.000000e+04 train accuracy: 0.311531 val accuracy: 0.328000\n",
      "lr 8.000000e-07 reg 7.000000e+04 train accuracy: 0.307408 val accuracy: 0.326000\n",
      "lr 8.000000e-07 reg 8.000000e+04 train accuracy: 0.294653 val accuracy: 0.314000\n",
      "lr 8.000000e-07 reg 1.000000e+05 train accuracy: 0.296857 val accuracy: 0.310000\n",
      "lr 5.000000e-05 reg 1.000000e+04 train accuracy: 0.130102 val accuracy: 0.138000\n",
      "lr 5.000000e-05 reg 2.000000e+04 train accuracy: 0.074102 val accuracy: 0.086000\n",
      "lr 5.000000e-05 reg 3.000000e+04 train accuracy: 0.112959 val accuracy: 0.115000\n",
      "lr 5.000000e-05 reg 4.000000e+04 train accuracy: 0.080163 val accuracy: 0.075000\n",
      "lr 5.000000e-05 reg 5.000000e+04 train accuracy: 0.061102 val accuracy: 0.061000\n",
      "lr 5.000000e-05 reg 6.000000e+04 train accuracy: 0.066224 val accuracy: 0.083000\n",
      "lr 5.000000e-05 reg 7.000000e+04 train accuracy: 0.070918 val accuracy: 0.057000\n",
      "lr 5.000000e-05 reg 8.000000e+04 train accuracy: 0.085776 val accuracy: 0.084000\n",
      "lr 5.000000e-05 reg 1.000000e+05 train accuracy: 0.090408 val accuracy: 0.088000\n",
      "best validation accuracy achieved during cross-validation: 0.377000\n"
     ]
    },
    {
     "name": "stderr",
     "output_type": "stream",
     "text": [
      "cs231n\\classifiers\\softmax.py:106: RuntimeWarning: overflow encountered in multiply\n",
      "  f_i = scores[i, :]\n"
     ]
    }
   ],
   "source": [
    "# Use the validation set to tune hyperparameters (regularization strength and\n",
    "# learning rate). You should experiment with different ranges for the learning\n",
    "# rates and regularization strengths; if you are careful you should be able to\n",
    "# get a classification accuracy of over 0.35 on the validation set.\n",
    "from cs231n.classifiers import Softmax\n",
    "\n",
    "results = {}\n",
    "best_val = -1\n",
    "best_softmax = None\n",
    "\n",
    "learning_rates = [1e-7, 2e-7, 3e-7, 5e-5, 8e-7]\n",
    "regularization_strengths = [1e4, 2e4, 3e4, 4e4, 5e4, 6e4, 7e4, 8e4, 1e5]\n",
    "\n",
    "################################################################################\n",
    "# TODO:                                                                        #\n",
    "# Use the validation set to set the learning rate and regularization strength. #\n",
    "# This should be identical to the validation that you did for the SVM; save    #\n",
    "# the best trained softmax classifer in best_softmax.                          #\n",
    "################################################################################\n",
    "\n",
    "for learning_rate in learning_rates:\n",
    "    for regularization_strength in regularization_strengths:\n",
    "        softmax = Softmax()\n",
    "        tic = time.time()\n",
    "        loss_hist = softmax.train(X_train, y_train, learning_rate=learning_rate, \n",
    "                              reg=regularization_strength, num_iters=400, verbose=False)\n",
    "        toc = time.time()        \n",
    "        print 'training took %fs' % (toc - tic)\n",
    "        \n",
    "        y_train_pred = softmax.predict(X_train)\n",
    "        y_val_pred = softmax.predict(X_val)\n",
    "        \n",
    "        y_train_accuracy = np.mean(y_train_pred == y_train)\n",
    "        y_val_accuracy = np.mean(y_val_pred == y_val)\n",
    "        \n",
    "        results[(learning_rate, regularization_strength)] = (y_train_accuracy, y_val_accuracy)\n",
    "        if y_val_accuracy > best_val:\n",
    "            best_val = y_val_accuracy\n",
    "            best_softmax = softmax\n",
    "\n",
    "\n",
    "################################################################################\n",
    "#                              END OF YOUR CODE                                #\n",
    "################################################################################\n",
    "    \n",
    "# Print out results.\n",
    "for lr, reg in sorted(results):\n",
    "    train_accuracy, val_accuracy = results[(lr, reg)]\n",
    "    print 'lr %e reg %e train accuracy: %f val accuracy: %f' % (\n",
    "                lr, reg, train_accuracy, val_accuracy)\n",
    "    \n",
    "print 'best validation accuracy achieved during cross-validation: %f' % best_val"
   ]
  },
  {
   "cell_type": "code",
   "execution_count": 26,
   "metadata": {
    "collapsed": false
   },
   "outputs": [
    {
     "name": "stdout",
     "output_type": "stream",
     "text": [
      "softmax on raw pixels final test set accuracy: 0.378000\n"
     ]
    }
   ],
   "source": [
    "# evaluate on test set\n",
    "# Evaluate the best softmax on test set\n",
    "y_test_pred = best_softmax.predict(X_test)\n",
    "test_accuracy = np.mean(y_test == y_test_pred)\n",
    "print 'softmax on raw pixels final test set accuracy: %f' % (test_accuracy, )"
   ]
  },
  {
   "cell_type": "code",
   "execution_count": 27,
   "metadata": {
    "collapsed": false
   },
   "outputs": [
    {
     "data": {
      "image/png": "[encoded data removed]",
      "text/plain": [
       "<matplotlib.figure.Figure at 0x17268588>"
      ]
     },
     "metadata": {},
     "output_type": "display_data"
    }
   ],
   "source": [
    "# Visualize the learned weights for each class\n",
    "w = best_softmax.W[:-1,:] # strip out the bias\n",
    "w = w.reshape(32, 32, 3, 10)\n",
    "\n",
    "w_min, w_max = np.min(w), np.max(w)\n",
    "\n",
    "classes = ['plane', 'car', 'bird', 'cat', 'deer', 'dog', 'frog', 'horse', 'ship', 'truck']\n",
    "for i in xrange(10):\n",
    "  plt.subplot(2, 5, i + 1)\n",
    "  \n",
    "  # Rescale the weights to be between 0 and 255\n",
    "  wimg = 255.0 * (w[:, :, :, i].squeeze() - w_min) / (w_max - w_min)\n",
    "  plt.imshow(wimg.astype('uint8'))\n",
    "  plt.axis('off')\n",
    "  plt.title(classes[i])"
   ]
  }
 ],
 "metadata": {
  "kernelspec": {
   "display_name": "Python 2",
   "language": "python",
   "name": "python2"
  },
  "language_info": {
   "codemirror_mode": {
    "name": "ipython",
    "version": 2
   },
   "file_extension": ".py",
   "mimetype": "text/x-python",
   "name": "python",
   "nbconvert_exporter": "python",
   "pygments_lexer": "ipython2",
   "version": "2.7.9"
  }
 },
 "nbformat": 4,
 "nbformat_minor": 0
}
